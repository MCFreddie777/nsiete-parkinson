{
  "nbformat": 4,
  "nbformat_minor": 5,
  "metadata": {
    "kernelspec": {
      "display_name": "Python 3",
      "language": "python",
      "name": "python3"
    },
    "language_info": {
      "codemirror_mode": {
        "name": "ipython",
        "version": 3
      },
      "file_extension": ".py",
      "mimetype": "text/x-python",
      "name": "python",
      "nbconvert_exporter": "python",
      "pygments_lexer": "ipython3",
      "version": "3.8.8"
    },
    "colab": {
      "name": "script.ipynb",
      "provenance": [],
      "collapsed_sections": [],
      "include_colab_link": true
    },
    "widgets": {
      "application/vnd.jupyter.widget-state+json": {
        "79eca542872a43ebae56ae55cf9218f8": {
          "model_module": "@jupyter-widgets/controls",
          "model_name": "VBoxModel",
          "state": {
            "_view_name": "VBoxView",
            "_dom_classes": [],
            "_model_name": "VBoxModel",
            "_view_module": "@jupyter-widgets/controls",
            "_model_module_version": "1.5.0",
            "_view_count": null,
            "_view_module_version": "1.5.0",
            "box_style": "",
            "layout": "IPY_MODEL_b516ad4971704401bfc6760260ef2000",
            "_model_module": "@jupyter-widgets/controls",
            "children": [
              "IPY_MODEL_df2fb248254b4f809ae06e29c75b8d07",
              "IPY_MODEL_ad7c517b9e744f93a28046dbdc3c6955"
            ]
          }
        },
        "b516ad4971704401bfc6760260ef2000": {
          "model_module": "@jupyter-widgets/base",
          "model_name": "LayoutModel",
          "state": {
            "_view_name": "LayoutView",
            "grid_template_rows": null,
            "right": null,
            "justify_content": null,
            "_view_module": "@jupyter-widgets/base",
            "overflow": null,
            "_model_module_version": "1.2.0",
            "_view_count": null,
            "flex_flow": null,
            "width": null,
            "min_width": null,
            "border": null,
            "align_items": null,
            "bottom": null,
            "_model_module": "@jupyter-widgets/base",
            "top": null,
            "grid_column": null,
            "overflow_y": null,
            "overflow_x": null,
            "grid_auto_flow": null,
            "grid_area": null,
            "grid_template_columns": null,
            "flex": null,
            "_model_name": "LayoutModel",
            "justify_items": null,
            "grid_row": null,
            "max_height": null,
            "align_content": null,
            "visibility": null,
            "align_self": null,
            "height": null,
            "min_height": null,
            "padding": null,
            "grid_auto_rows": null,
            "grid_gap": null,
            "max_width": null,
            "order": null,
            "_view_module_version": "1.2.0",
            "grid_template_areas": null,
            "object_position": null,
            "object_fit": null,
            "grid_auto_columns": null,
            "margin": null,
            "display": null,
            "left": null
          }
        },
        "df2fb248254b4f809ae06e29c75b8d07": {
          "model_module": "@jupyter-widgets/controls",
          "model_name": "LabelModel",
          "state": {
            "_view_name": "LabelView",
            "style": "IPY_MODEL_5c2c48aab4e646c7b3fa0fbde8ad78b4",
            "_dom_classes": [],
            "description": "",
            "_model_name": "LabelModel",
            "placeholder": "​",
            "_view_module": "@jupyter-widgets/controls",
            "_model_module_version": "1.5.0",
            "value": " 0.10MB of 0.10MB uploaded (0.00MB deduped)\r",
            "_view_count": null,
            "_view_module_version": "1.5.0",
            "description_tooltip": null,
            "_model_module": "@jupyter-widgets/controls",
            "layout": "IPY_MODEL_937e12cb44ec414f834cc84b917dc455"
          }
        },
        "ad7c517b9e744f93a28046dbdc3c6955": {
          "model_module": "@jupyter-widgets/controls",
          "model_name": "FloatProgressModel",
          "state": {
            "_view_name": "ProgressView",
            "style": "IPY_MODEL_2038960ed8b243c6b9eff7c024c15e3d",
            "_dom_classes": [],
            "description": "",
            "_model_name": "FloatProgressModel",
            "bar_style": "",
            "max": 1,
            "_view_module": "@jupyter-widgets/controls",
            "_model_module_version": "1.5.0",
            "value": 1,
            "_view_count": null,
            "_view_module_version": "1.5.0",
            "orientation": "horizontal",
            "min": 0,
            "description_tooltip": null,
            "_model_module": "@jupyter-widgets/controls",
            "layout": "IPY_MODEL_58b116e9682644c192a67adf0253eb7c"
          }
        },
        "5c2c48aab4e646c7b3fa0fbde8ad78b4": {
          "model_module": "@jupyter-widgets/controls",
          "model_name": "DescriptionStyleModel",
          "state": {
            "_view_name": "StyleView",
            "_model_name": "DescriptionStyleModel",
            "description_width": "",
            "_view_module": "@jupyter-widgets/base",
            "_model_module_version": "1.5.0",
            "_view_count": null,
            "_view_module_version": "1.2.0",
            "_model_module": "@jupyter-widgets/controls"
          }
        },
        "937e12cb44ec414f834cc84b917dc455": {
          "model_module": "@jupyter-widgets/base",
          "model_name": "LayoutModel",
          "state": {
            "_view_name": "LayoutView",
            "grid_template_rows": null,
            "right": null,
            "justify_content": null,
            "_view_module": "@jupyter-widgets/base",
            "overflow": null,
            "_model_module_version": "1.2.0",
            "_view_count": null,
            "flex_flow": null,
            "width": null,
            "min_width": null,
            "border": null,
            "align_items": null,
            "bottom": null,
            "_model_module": "@jupyter-widgets/base",
            "top": null,
            "grid_column": null,
            "overflow_y": null,
            "overflow_x": null,
            "grid_auto_flow": null,
            "grid_area": null,
            "grid_template_columns": null,
            "flex": null,
            "_model_name": "LayoutModel",
            "justify_items": null,
            "grid_row": null,
            "max_height": null,
            "align_content": null,
            "visibility": null,
            "align_self": null,
            "height": null,
            "min_height": null,
            "padding": null,
            "grid_auto_rows": null,
            "grid_gap": null,
            "max_width": null,
            "order": null,
            "_view_module_version": "1.2.0",
            "grid_template_areas": null,
            "object_position": null,
            "object_fit": null,
            "grid_auto_columns": null,
            "margin": null,
            "display": null,
            "left": null
          }
        },
        "2038960ed8b243c6b9eff7c024c15e3d": {
          "model_module": "@jupyter-widgets/controls",
          "model_name": "ProgressStyleModel",
          "state": {
            "_view_name": "StyleView",
            "_model_name": "ProgressStyleModel",
            "description_width": "",
            "_view_module": "@jupyter-widgets/base",
            "_model_module_version": "1.5.0",
            "_view_count": null,
            "_view_module_version": "1.2.0",
            "bar_color": null,
            "_model_module": "@jupyter-widgets/controls"
          }
        },
        "58b116e9682644c192a67adf0253eb7c": {
          "model_module": "@jupyter-widgets/base",
          "model_name": "LayoutModel",
          "state": {
            "_view_name": "LayoutView",
            "grid_template_rows": null,
            "right": null,
            "justify_content": null,
            "_view_module": "@jupyter-widgets/base",
            "overflow": null,
            "_model_module_version": "1.2.0",
            "_view_count": null,
            "flex_flow": null,
            "width": null,
            "min_width": null,
            "border": null,
            "align_items": null,
            "bottom": null,
            "_model_module": "@jupyter-widgets/base",
            "top": null,
            "grid_column": null,
            "overflow_y": null,
            "overflow_x": null,
            "grid_auto_flow": null,
            "grid_area": null,
            "grid_template_columns": null,
            "flex": null,
            "_model_name": "LayoutModel",
            "justify_items": null,
            "grid_row": null,
            "max_height": null,
            "align_content": null,
            "visibility": null,
            "align_self": null,
            "height": null,
            "min_height": null,
            "padding": null,
            "grid_auto_rows": null,
            "grid_gap": null,
            "max_width": null,
            "order": null,
            "_view_module_version": "1.2.0",
            "grid_template_areas": null,
            "object_position": null,
            "object_fit": null,
            "grid_auto_columns": null,
            "margin": null,
            "display": null,
            "left": null
          }
        },
        "5dec46aaf3bf41ca84d07d2af77b1d2e": {
          "model_module": "@jupyter-widgets/controls",
          "model_name": "VBoxModel",
          "state": {
            "_view_name": "VBoxView",
            "_dom_classes": [],
            "_model_name": "VBoxModel",
            "_view_module": "@jupyter-widgets/controls",
            "_model_module_version": "1.5.0",
            "_view_count": null,
            "_view_module_version": "1.5.0",
            "box_style": "",
            "layout": "IPY_MODEL_ad0a0f59ca9847e785013c2ec108ee25",
            "_model_module": "@jupyter-widgets/controls",
            "children": [
              "IPY_MODEL_014e11273af547a09cab83bbd1759491",
              "IPY_MODEL_78b009f811164d08a5caf0f4aded00e8"
            ]
          }
        },
        "ad0a0f59ca9847e785013c2ec108ee25": {
          "model_module": "@jupyter-widgets/base",
          "model_name": "LayoutModel",
          "state": {
            "_view_name": "LayoutView",
            "grid_template_rows": null,
            "right": null,
            "justify_content": null,
            "_view_module": "@jupyter-widgets/base",
            "overflow": null,
            "_model_module_version": "1.2.0",
            "_view_count": null,
            "flex_flow": null,
            "width": null,
            "min_width": null,
            "border": null,
            "align_items": null,
            "bottom": null,
            "_model_module": "@jupyter-widgets/base",
            "top": null,
            "grid_column": null,
            "overflow_y": null,
            "overflow_x": null,
            "grid_auto_flow": null,
            "grid_area": null,
            "grid_template_columns": null,
            "flex": null,
            "_model_name": "LayoutModel",
            "justify_items": null,
            "grid_row": null,
            "max_height": null,
            "align_content": null,
            "visibility": null,
            "align_self": null,
            "height": null,
            "min_height": null,
            "padding": null,
            "grid_auto_rows": null,
            "grid_gap": null,
            "max_width": null,
            "order": null,
            "_view_module_version": "1.2.0",
            "grid_template_areas": null,
            "object_position": null,
            "object_fit": null,
            "grid_auto_columns": null,
            "margin": null,
            "display": null,
            "left": null
          }
        },
        "014e11273af547a09cab83bbd1759491": {
          "model_module": "@jupyter-widgets/controls",
          "model_name": "LabelModel",
          "state": {
            "_view_name": "LabelView",
            "style": "IPY_MODEL_9e134f859c8940ef8ff715edfdb9c1ce",
            "_dom_classes": [],
            "description": "",
            "_model_name": "LabelModel",
            "placeholder": "​",
            "_view_module": "@jupyter-widgets/controls",
            "_model_module_version": "1.5.0",
            "value": " 0.01MB of 0.01MB uploaded (0.00MB deduped)\r",
            "_view_count": null,
            "_view_module_version": "1.5.0",
            "description_tooltip": null,
            "_model_module": "@jupyter-widgets/controls",
            "layout": "IPY_MODEL_1c824b6636a342b6a51a5cacce5d65c2"
          }
        },
        "78b009f811164d08a5caf0f4aded00e8": {
          "model_module": "@jupyter-widgets/controls",
          "model_name": "FloatProgressModel",
          "state": {
            "_view_name": "ProgressView",
            "style": "IPY_MODEL_577597ba615349eea43fa19531fd2adb",
            "_dom_classes": [],
            "description": "",
            "_model_name": "FloatProgressModel",
            "bar_style": "",
            "max": 1,
            "_view_module": "@jupyter-widgets/controls",
            "_model_module_version": "1.5.0",
            "value": 1,
            "_view_count": null,
            "_view_module_version": "1.5.0",
            "orientation": "horizontal",
            "min": 0,
            "description_tooltip": null,
            "_model_module": "@jupyter-widgets/controls",
            "layout": "IPY_MODEL_81e10fdb4b7b40e79345dbb1b34e2423"
          }
        },
        "9e134f859c8940ef8ff715edfdb9c1ce": {
          "model_module": "@jupyter-widgets/controls",
          "model_name": "DescriptionStyleModel",
          "state": {
            "_view_name": "StyleView",
            "_model_name": "DescriptionStyleModel",
            "description_width": "",
            "_view_module": "@jupyter-widgets/base",
            "_model_module_version": "1.5.0",
            "_view_count": null,
            "_view_module_version": "1.2.0",
            "_model_module": "@jupyter-widgets/controls"
          }
        },
        "1c824b6636a342b6a51a5cacce5d65c2": {
          "model_module": "@jupyter-widgets/base",
          "model_name": "LayoutModel",
          "state": {
            "_view_name": "LayoutView",
            "grid_template_rows": null,
            "right": null,
            "justify_content": null,
            "_view_module": "@jupyter-widgets/base",
            "overflow": null,
            "_model_module_version": "1.2.0",
            "_view_count": null,
            "flex_flow": null,
            "width": null,
            "min_width": null,
            "border": null,
            "align_items": null,
            "bottom": null,
            "_model_module": "@jupyter-widgets/base",
            "top": null,
            "grid_column": null,
            "overflow_y": null,
            "overflow_x": null,
            "grid_auto_flow": null,
            "grid_area": null,
            "grid_template_columns": null,
            "flex": null,
            "_model_name": "LayoutModel",
            "justify_items": null,
            "grid_row": null,
            "max_height": null,
            "align_content": null,
            "visibility": null,
            "align_self": null,
            "height": null,
            "min_height": null,
            "padding": null,
            "grid_auto_rows": null,
            "grid_gap": null,
            "max_width": null,
            "order": null,
            "_view_module_version": "1.2.0",
            "grid_template_areas": null,
            "object_position": null,
            "object_fit": null,
            "grid_auto_columns": null,
            "margin": null,
            "display": null,
            "left": null
          }
        },
        "577597ba615349eea43fa19531fd2adb": {
          "model_module": "@jupyter-widgets/controls",
          "model_name": "ProgressStyleModel",
          "state": {
            "_view_name": "StyleView",
            "_model_name": "ProgressStyleModel",
            "description_width": "",
            "_view_module": "@jupyter-widgets/base",
            "_model_module_version": "1.5.0",
            "_view_count": null,
            "_view_module_version": "1.2.0",
            "bar_color": null,
            "_model_module": "@jupyter-widgets/controls"
          }
        },
        "81e10fdb4b7b40e79345dbb1b34e2423": {
          "model_module": "@jupyter-widgets/base",
          "model_name": "LayoutModel",
          "state": {
            "_view_name": "LayoutView",
            "grid_template_rows": null,
            "right": null,
            "justify_content": null,
            "_view_module": "@jupyter-widgets/base",
            "overflow": null,
            "_model_module_version": "1.2.0",
            "_view_count": null,
            "flex_flow": null,
            "width": null,
            "min_width": null,
            "border": null,
            "align_items": null,
            "bottom": null,
            "_model_module": "@jupyter-widgets/base",
            "top": null,
            "grid_column": null,
            "overflow_y": null,
            "overflow_x": null,
            "grid_auto_flow": null,
            "grid_area": null,
            "grid_template_columns": null,
            "flex": null,
            "_model_name": "LayoutModel",
            "justify_items": null,
            "grid_row": null,
            "max_height": null,
            "align_content": null,
            "visibility": null,
            "align_self": null,
            "height": null,
            "min_height": null,
            "padding": null,
            "grid_auto_rows": null,
            "grid_gap": null,
            "max_width": null,
            "order": null,
            "_view_module_version": "1.2.0",
            "grid_template_areas": null,
            "object_position": null,
            "object_fit": null,
            "grid_auto_columns": null,
            "margin": null,
            "display": null,
            "left": null
          }
        }
      }
    }
  },
  "cells": [
    {
      "cell_type": "markdown",
      "metadata": {
        "id": "view-in-github",
        "colab_type": "text"
      },
      "source": [
        "<a href=\"https://colab.research.google.com/github/MCFreddie777/nsiete-parkinson/blob/master/script.ipynb\" target=\"_parent\"><img src=\"https://colab.research.google.com/assets/colab-badge.svg\" alt=\"Open In Colab\"/></a>"
      ]
    },
    {
      "cell_type": "code",
      "metadata": {
        "id": "G2wWUwnMXopa"
      },
      "source": [
        "!pip install wandb &> /dev/null"
      ],
      "id": "G2wWUwnMXopa",
      "execution_count": 72,
      "outputs": []
    },
    {
      "cell_type": "code",
      "metadata": {
        "id": "color-commercial"
      },
      "source": [
        "import pandas as pd\n",
        "import wandb\n",
        "from wandb import AlertLevel\n",
        "from datetime import timedelta"
      ],
      "id": "color-commercial",
      "execution_count": 73,
      "outputs": []
    },
    {
      "cell_type": "code",
      "metadata": {
        "colab": {
          "base_uri": "https://localhost:8080/"
        },
        "id": "W2WW3nODeOYE",
        "outputId": "1dcced4f-5d1b-4239-dbd5-be7bc3637951"
      },
      "source": [
        "wandb.login()"
      ],
      "id": "W2WW3nODeOYE",
      "execution_count": 74,
      "outputs": [
        {
          "output_type": "execute_result",
          "data": {
            "text/plain": [
              "True"
            ]
          },
          "metadata": {
            "tags": []
          },
          "execution_count": 74
        }
      ]
    },
    {
      "cell_type": "code",
      "metadata": {
        "id": "Kz2KiADWzMBG"
      },
      "source": [
        "try:\n",
        "  import google.colab\n",
        "  IN_COLAB = True\n",
        "except:\n",
        "  IN_COLAB = False"
      ],
      "id": "Kz2KiADWzMBG",
      "execution_count": 75,
      "outputs": []
    },
    {
      "cell_type": "markdown",
      "metadata": {
        "id": "GPnoM73jPzey"
      },
      "source": [
        "Ako prvý krok načítame dáta a pozrieme sa na vzorku atribútov."
      ],
      "id": "GPnoM73jPzey"
    },
    {
      "cell_type": "code",
      "metadata": {
        "id": "vM9BgTkLvfZk"
      },
      "source": [
        "data_path = 'https://raw.githubusercontent.com/MCFreddie777/nsiete-parkinson/master/data/' if IN_COLAB else 'data/' # Read files directly from github if working in google colab\n",
        "data_file = 'parkinsons.data'\n",
        "data = pd.read_csv(f\"{data_path}{data_file}\")"
      ],
      "id": "vM9BgTkLvfZk",
      "execution_count": 76,
      "outputs": []
    },
    {
      "cell_type": "code",
      "metadata": {
        "colab": {
          "base_uri": "https://localhost:8080/",
          "height": 224
        },
        "id": "EFxVDlH2vjNu",
        "outputId": "45a64e46-a5f5-46ea-dd13-cfb1c3ce9534"
      },
      "source": [
        "data.head()"
      ],
      "id": "EFxVDlH2vjNu",
      "execution_count": 77,
      "outputs": [
        {
          "output_type": "execute_result",
          "data": {
            "text/html": [
              "<div>\n",
              "<style scoped>\n",
              "    .dataframe tbody tr th:only-of-type {\n",
              "        vertical-align: middle;\n",
              "    }\n",
              "\n",
              "    .dataframe tbody tr th {\n",
              "        vertical-align: top;\n",
              "    }\n",
              "\n",
              "    .dataframe thead th {\n",
              "        text-align: right;\n",
              "    }\n",
              "</style>\n",
              "<table border=\"1\" class=\"dataframe\">\n",
              "  <thead>\n",
              "    <tr style=\"text-align: right;\">\n",
              "      <th></th>\n",
              "      <th>name</th>\n",
              "      <th>MDVP:Fo(Hz)</th>\n",
              "      <th>MDVP:Fhi(Hz)</th>\n",
              "      <th>MDVP:Flo(Hz)</th>\n",
              "      <th>MDVP:Jitter(%)</th>\n",
              "      <th>MDVP:Jitter(Abs)</th>\n",
              "      <th>MDVP:RAP</th>\n",
              "      <th>MDVP:PPQ</th>\n",
              "      <th>Jitter:DDP</th>\n",
              "      <th>MDVP:Shimmer</th>\n",
              "      <th>MDVP:Shimmer(dB)</th>\n",
              "      <th>Shimmer:APQ3</th>\n",
              "      <th>Shimmer:APQ5</th>\n",
              "      <th>MDVP:APQ</th>\n",
              "      <th>Shimmer:DDA</th>\n",
              "      <th>NHR</th>\n",
              "      <th>HNR</th>\n",
              "      <th>status</th>\n",
              "      <th>RPDE</th>\n",
              "      <th>DFA</th>\n",
              "      <th>spread1</th>\n",
              "      <th>spread2</th>\n",
              "      <th>D2</th>\n",
              "      <th>PPE</th>\n",
              "    </tr>\n",
              "  </thead>\n",
              "  <tbody>\n",
              "    <tr>\n",
              "      <th>0</th>\n",
              "      <td>phon_R01_S01_1</td>\n",
              "      <td>119.992</td>\n",
              "      <td>157.302</td>\n",
              "      <td>74.997</td>\n",
              "      <td>0.00784</td>\n",
              "      <td>0.00007</td>\n",
              "      <td>0.00370</td>\n",
              "      <td>0.00554</td>\n",
              "      <td>0.01109</td>\n",
              "      <td>0.04374</td>\n",
              "      <td>0.426</td>\n",
              "      <td>0.02182</td>\n",
              "      <td>0.03130</td>\n",
              "      <td>0.02971</td>\n",
              "      <td>0.06545</td>\n",
              "      <td>0.02211</td>\n",
              "      <td>21.033</td>\n",
              "      <td>1</td>\n",
              "      <td>0.414783</td>\n",
              "      <td>0.815285</td>\n",
              "      <td>-4.813031</td>\n",
              "      <td>0.266482</td>\n",
              "      <td>2.301442</td>\n",
              "      <td>0.284654</td>\n",
              "    </tr>\n",
              "    <tr>\n",
              "      <th>1</th>\n",
              "      <td>phon_R01_S01_2</td>\n",
              "      <td>122.400</td>\n",
              "      <td>148.650</td>\n",
              "      <td>113.819</td>\n",
              "      <td>0.00968</td>\n",
              "      <td>0.00008</td>\n",
              "      <td>0.00465</td>\n",
              "      <td>0.00696</td>\n",
              "      <td>0.01394</td>\n",
              "      <td>0.06134</td>\n",
              "      <td>0.626</td>\n",
              "      <td>0.03134</td>\n",
              "      <td>0.04518</td>\n",
              "      <td>0.04368</td>\n",
              "      <td>0.09403</td>\n",
              "      <td>0.01929</td>\n",
              "      <td>19.085</td>\n",
              "      <td>1</td>\n",
              "      <td>0.458359</td>\n",
              "      <td>0.819521</td>\n",
              "      <td>-4.075192</td>\n",
              "      <td>0.335590</td>\n",
              "      <td>2.486855</td>\n",
              "      <td>0.368674</td>\n",
              "    </tr>\n",
              "    <tr>\n",
              "      <th>2</th>\n",
              "      <td>phon_R01_S01_3</td>\n",
              "      <td>116.682</td>\n",
              "      <td>131.111</td>\n",
              "      <td>111.555</td>\n",
              "      <td>0.01050</td>\n",
              "      <td>0.00009</td>\n",
              "      <td>0.00544</td>\n",
              "      <td>0.00781</td>\n",
              "      <td>0.01633</td>\n",
              "      <td>0.05233</td>\n",
              "      <td>0.482</td>\n",
              "      <td>0.02757</td>\n",
              "      <td>0.03858</td>\n",
              "      <td>0.03590</td>\n",
              "      <td>0.08270</td>\n",
              "      <td>0.01309</td>\n",
              "      <td>20.651</td>\n",
              "      <td>1</td>\n",
              "      <td>0.429895</td>\n",
              "      <td>0.825288</td>\n",
              "      <td>-4.443179</td>\n",
              "      <td>0.311173</td>\n",
              "      <td>2.342259</td>\n",
              "      <td>0.332634</td>\n",
              "    </tr>\n",
              "    <tr>\n",
              "      <th>3</th>\n",
              "      <td>phon_R01_S01_4</td>\n",
              "      <td>116.676</td>\n",
              "      <td>137.871</td>\n",
              "      <td>111.366</td>\n",
              "      <td>0.00997</td>\n",
              "      <td>0.00009</td>\n",
              "      <td>0.00502</td>\n",
              "      <td>0.00698</td>\n",
              "      <td>0.01505</td>\n",
              "      <td>0.05492</td>\n",
              "      <td>0.517</td>\n",
              "      <td>0.02924</td>\n",
              "      <td>0.04005</td>\n",
              "      <td>0.03772</td>\n",
              "      <td>0.08771</td>\n",
              "      <td>0.01353</td>\n",
              "      <td>20.644</td>\n",
              "      <td>1</td>\n",
              "      <td>0.434969</td>\n",
              "      <td>0.819235</td>\n",
              "      <td>-4.117501</td>\n",
              "      <td>0.334147</td>\n",
              "      <td>2.405554</td>\n",
              "      <td>0.368975</td>\n",
              "    </tr>\n",
              "    <tr>\n",
              "      <th>4</th>\n",
              "      <td>phon_R01_S01_5</td>\n",
              "      <td>116.014</td>\n",
              "      <td>141.781</td>\n",
              "      <td>110.655</td>\n",
              "      <td>0.01284</td>\n",
              "      <td>0.00011</td>\n",
              "      <td>0.00655</td>\n",
              "      <td>0.00908</td>\n",
              "      <td>0.01966</td>\n",
              "      <td>0.06425</td>\n",
              "      <td>0.584</td>\n",
              "      <td>0.03490</td>\n",
              "      <td>0.04825</td>\n",
              "      <td>0.04465</td>\n",
              "      <td>0.10470</td>\n",
              "      <td>0.01767</td>\n",
              "      <td>19.649</td>\n",
              "      <td>1</td>\n",
              "      <td>0.417356</td>\n",
              "      <td>0.823484</td>\n",
              "      <td>-3.747787</td>\n",
              "      <td>0.234513</td>\n",
              "      <td>2.332180</td>\n",
              "      <td>0.410335</td>\n",
              "    </tr>\n",
              "  </tbody>\n",
              "</table>\n",
              "</div>"
            ],
            "text/plain": [
              "             name  MDVP:Fo(Hz)  MDVP:Fhi(Hz)  ...   spread2        D2       PPE\n",
              "0  phon_R01_S01_1      119.992       157.302  ...  0.266482  2.301442  0.284654\n",
              "1  phon_R01_S01_2      122.400       148.650  ...  0.335590  2.486855  0.368674\n",
              "2  phon_R01_S01_3      116.682       131.111  ...  0.311173  2.342259  0.332634\n",
              "3  phon_R01_S01_4      116.676       137.871  ...  0.334147  2.405554  0.368975\n",
              "4  phon_R01_S01_5      116.014       141.781  ...  0.234513  2.332180  0.410335\n",
              "\n",
              "[5 rows x 24 columns]"
            ]
          },
          "metadata": {
            "tags": []
          },
          "execution_count": 77
        }
      ]
    },
    {
      "cell_type": "markdown",
      "metadata": {
        "id": "XERG_6To1K0P"
      },
      "source": [
        "Atribúty:\n",
        "\n",
        "- **name** - ASCII subject name and recording number\n",
        "- **MDVP:Fo(Hz)** - Average vocal fundamental frequency\n",
        "- **MDVP:Fhi(Hz)** - Maximum vocal fundamental frequency\n",
        "- **MDVP:Flo(Hz)** - Minimum vocal fundamental frequency\n",
        "- **MDVP:Jitter(%), MDVP:Jitter(Abs), MDVP:RAP, MDVP:PPQ, Jitter:DDP** - Several measures of variation in fundamental frequency\n",
        "- **MDVP:Shimmer, MDVP:Shimmer(dB), Shimmer:APQ3, Shimmer:APQ5, MDVP:APQ, Shimmer:DDA** - Several measures of variation in amplitude \n",
        "- **NHR,HNR** - Two measures of ratio of noise to tonal components in the voice\n",
        "- **status** - Health status of the subject (one) - Parkinson's, (zero) - healthy\n",
        "- **RPDE, D2** - Two nonlinear dynamical complexity measures\n",
        "- **DFA** - Signal fractal scaling exponent\n",
        "- **spread1, spread2, PPE** - Three nonlinear measures of fundamental frequency variation\n"
      ],
      "id": "XERG_6To1K0P"
    },
    {
      "cell_type": "markdown",
      "metadata": {
        "id": "biqnsP6pQYzn"
      },
      "source": [
        "Pozrieme sa aký počet dát máme:"
      ],
      "id": "biqnsP6pQYzn"
    },
    {
      "cell_type": "code",
      "metadata": {
        "colab": {
          "base_uri": "https://localhost:8080/"
        },
        "id": "7vktZ60teXEU",
        "outputId": "fb58a823-d039-422c-9dbe-8a0c88fc7d1b"
      },
      "source": [
        "len(data)"
      ],
      "id": "7vktZ60teXEU",
      "execution_count": 78,
      "outputs": [
        {
          "output_type": "execute_result",
          "data": {
            "text/plain": [
              "195"
            ]
          },
          "metadata": {
            "tags": []
          },
          "execution_count": 78
        }
      ]
    },
    {
      "cell_type": "markdown",
      "metadata": {
        "id": "_rT11y-zJdXz"
      },
      "source": [
        "## Tensorflow / Keras"
      ],
      "id": "_rT11y-zJdXz"
    },
    {
      "cell_type": "code",
      "metadata": {
        "id": "FbuQBaElOJ3b"
      },
      "source": [
        "import tensorflow as tf\n",
        "from tensorflow import keras\n",
        "from sklearn.model_selection import train_test_split\n",
        "import numpy as np\n",
        "from matplotlib import pyplot as plt\n",
        "\n",
        "from wandb.keras import WandbCallback"
      ],
      "id": "FbuQBaElOJ3b",
      "execution_count": 79,
      "outputs": []
    },
    {
      "cell_type": "markdown",
      "metadata": {
        "id": "cBLpze_8PxAu"
      },
      "source": [
        "Najprv si dáta rozdelime na trenovaciu a testovaciu sadu v pomere 70 k 30."
      ],
      "id": "cBLpze_8PxAu"
    },
    {
      "cell_type": "code",
      "metadata": {
        "id": "7FhDd5TVIllD"
      },
      "source": [
        "X_data = data.loc[:, data.columns != 'status'].drop(['name'], axis=1)\n",
        "Y_data = data['status']"
      ],
      "id": "7FhDd5TVIllD",
      "execution_count": 80,
      "outputs": []
    },
    {
      "cell_type": "code",
      "metadata": {
        "id": "x6n2-alNM6TT"
      },
      "source": [
        "X_train, X_test, y_train, y_test = train_test_split(X_data, Y_data, test_size=0.3, random_state=256)"
      ],
      "id": "x6n2-alNM6TT",
      "execution_count": 81,
      "outputs": []
    },
    {
      "cell_type": "markdown",
      "metadata": {
        "id": "6t_GShvmSVUN"
      },
      "source": [
        "Nastavíme si parametre modelu - ako napríklad počet epôch, learning rate..."
      ],
      "id": "6t_GShvmSVUN"
    },
    {
      "cell_type": "code",
      "metadata": {
        "id": "r_yr46jQzle_"
      },
      "source": [
        "#MODEL PARAMETERS \n",
        "config = {\n",
        "\"EPOCHS\": 100,\n",
        "\"BATCH_SIZE\": 195,\n",
        "\"LEARNING_RATE\": 0.0001,\n",
        "\"MOMENTUM\": 0.5,\n",
        "\"epsilon\": 1e-07,\n",
        "\"rho\":0.9\n",
        "}"
      ],
      "id": "r_yr46jQzle_",
      "execution_count": 82,
      "outputs": []
    },
    {
      "cell_type": "markdown",
      "metadata": {
        "id": "YVgdfnIySg4a"
      },
      "source": [
        "Zadefinujeme si model - 3 skryté vrstvy s RELU aktivačnou funkciou. Na výstupe je 1 neurón s aktivačnou funkciou sigmoid, nakolko ide o binárnu klasifikáciu atribútu 'status'."
      ],
      "id": "YVgdfnIySg4a"
    },
    {
      "cell_type": "code",
      "metadata": {
        "id": "0VI9Mcuj0axm"
      },
      "source": [
        "model = keras.Sequential([\n",
        "    keras.layers.Flatten(input_shape=(22,)),\n",
        "    keras.layers.Dense(22, activation=tf.nn.relu),\n",
        "\t  keras.layers.Dense(32, activation=tf.nn.relu),\n",
        "\t  keras.layers.Dense(16, activation=tf.nn.relu),\n",
        "    keras.layers.Dense(1, activation=tf.nn.sigmoid),\n",
        "])"
      ],
      "id": "0VI9Mcuj0axm",
      "execution_count": 83,
      "outputs": []
    },
    {
      "cell_type": "markdown",
      "metadata": {
        "id": "dQpbnf3DWIgJ"
      },
      "source": [
        "Nastavíme modelu parametre - loss funkciu, optimizer..."
      ],
      "id": "dQpbnf3DWIgJ"
    },
    {
      "cell_type": "code",
      "metadata": {
        "id": "zdgpBHSPN4GG"
      },
      "source": [
        "model.compile(\n",
        "    optimizer=keras.optimizers.RMSprop(\n",
        "        learning_rate=config[\"LEARNING_RATE\"], \n",
        "        rho=config[\"rho\"], \n",
        "        momentum=config[\"MOMENTUM\"],\n",
        "        epsilon=config[\"epsilon\"]\n",
        "        ),\n",
        "    loss='binary_crossentropy',\n",
        "    metrics=['accuracy']\n",
        ")"
      ],
      "id": "zdgpBHSPN4GG",
      "execution_count": 84,
      "outputs": []
    },
    {
      "cell_type": "code",
      "metadata": {
        "colab": {
          "base_uri": "https://localhost:8080/",
          "height": 120
        },
        "id": "LEe5vD3jy9yU",
        "outputId": "91f437ba-5901-4a4a-8fa8-6a488a0d8ef2"
      },
      "source": [
        "run = wandb.init(project=\"parkinson_tensor\", entity=\"nn2021\")"
      ],
      "id": "LEe5vD3jy9yU",
      "execution_count": 85,
      "outputs": [
        {
          "output_type": "display_data",
          "data": {
            "text/html": [
              "\n",
              "                Tracking run with wandb version 0.10.23<br/>\n",
              "                Syncing run <strong style=\"color:#cdcd00\">magic-wave-29</strong> to <a href=\"https://wandb.ai\" target=\"_blank\">Weights & Biases</a> <a href=\"https://docs.wandb.com/integrations/jupyter.html\" target=\"_blank\">(Documentation)</a>.<br/>\n",
              "                Project page: <a href=\"https://wandb.ai/nn2021/parkinson_tensor\" target=\"_blank\">https://wandb.ai/nn2021/parkinson_tensor</a><br/>\n",
              "                Run page: <a href=\"https://wandb.ai/nn2021/parkinson_tensor/runs/1umr56wd\" target=\"_blank\">https://wandb.ai/nn2021/parkinson_tensor/runs/1umr56wd</a><br/>\n",
              "                Run data is saved locally in <code>/content/wandb/run-20210327_221634-1umr56wd</code><br/><br/>\n",
              "            "
            ],
            "text/plain": [
              "<IPython.core.display.HTML object>"
            ]
          },
          "metadata": {
            "tags": []
          }
        }
      ]
    },
    {
      "cell_type": "code",
      "metadata": {
        "id": "PIG5udw1zGQP"
      },
      "source": [
        "wandb.config.update(config)"
      ],
      "id": "PIG5udw1zGQP",
      "execution_count": 86,
      "outputs": []
    },
    {
      "cell_type": "markdown",
      "metadata": {
        "id": "pOd1v1M8WSEf"
      },
      "source": [
        "Po nastavení wandb spustíme trénovanie siete."
      ],
      "id": "pOd1v1M8WSEf"
    },
    {
      "cell_type": "code",
      "metadata": {
        "id": "9pxHonnlOuow",
        "colab": {
          "base_uri": "https://localhost:8080/"
        },
        "outputId": "67fffef6-3b47-4c81-8a17-150f3088055a"
      },
      "source": [
        "model.fit(X_train, y_train, epochs=config[\"EPOCHS\"], batch_size=config[\"BATCH_SIZE\"], validation_data=(X_test, y_test), callbacks=[WandbCallback()])"
      ],
      "id": "9pxHonnlOuow",
      "execution_count": 87,
      "outputs": [
        {
          "output_type": "stream",
          "text": [
            "Epoch 1/100\n",
            "1/1 [==============================] - 1s 744ms/step - loss: 8.4138 - accuracy: 0.7132 - val_loss: 4.7619 - val_accuracy: 0.8475\n",
            "Epoch 2/100\n",
            "1/1 [==============================] - 0s 50ms/step - loss: 8.1409 - accuracy: 0.7132 - val_loss: 4.5713 - val_accuracy: 0.8475\n",
            "Epoch 3/100\n",
            "1/1 [==============================] - 0s 55ms/step - loss: 7.8084 - accuracy: 0.7132 - val_loss: 4.3828 - val_accuracy: 0.8475\n",
            "Epoch 4/100\n",
            "1/1 [==============================] - 0s 59ms/step - loss: 7.4780 - accuracy: 0.7132 - val_loss: 4.2064 - val_accuracy: 0.8475\n",
            "Epoch 5/100\n",
            "1/1 [==============================] - 0s 60ms/step - loss: 7.1646 - accuracy: 0.7132 - val_loss: 4.0427 - val_accuracy: 0.8475\n",
            "Epoch 6/100\n",
            "1/1 [==============================] - 0s 57ms/step - loss: 6.8717 - accuracy: 0.7132 - val_loss: 3.8909 - val_accuracy: 0.8475\n",
            "Epoch 7/100\n",
            "1/1 [==============================] - 0s 53ms/step - loss: 6.5923 - accuracy: 0.7132 - val_loss: 3.7434 - val_accuracy: 0.8475\n",
            "Epoch 8/100\n",
            "1/1 [==============================] - 0s 58ms/step - loss: 6.3249 - accuracy: 0.7132 - val_loss: 3.5968 - val_accuracy: 0.8475\n",
            "Epoch 9/100\n",
            "1/1 [==============================] - 0s 54ms/step - loss: 6.0710 - accuracy: 0.7132 - val_loss: 3.4538 - val_accuracy: 0.8475\n",
            "Epoch 10/100\n",
            "1/1 [==============================] - 0s 57ms/step - loss: 5.8259 - accuracy: 0.7132 - val_loss: 3.3137 - val_accuracy: 0.8475\n",
            "Epoch 11/100\n",
            "1/1 [==============================] - 0s 60ms/step - loss: 5.5867 - accuracy: 0.7132 - val_loss: 3.1758 - val_accuracy: 0.8475\n",
            "Epoch 12/100\n",
            "1/1 [==============================] - 0s 67ms/step - loss: 5.3525 - accuracy: 0.7132 - val_loss: 3.0429 - val_accuracy: 0.8475\n",
            "Epoch 13/100\n",
            "1/1 [==============================] - 0s 52ms/step - loss: 5.1235 - accuracy: 0.7132 - val_loss: 2.9128 - val_accuracy: 0.8475\n",
            "Epoch 14/100\n",
            "1/1 [==============================] - 0s 53ms/step - loss: 4.9009 - accuracy: 0.7132 - val_loss: 2.7859 - val_accuracy: 0.8475\n",
            "Epoch 15/100\n",
            "1/1 [==============================] - 0s 55ms/step - loss: 4.6861 - accuracy: 0.7132 - val_loss: 2.6623 - val_accuracy: 0.8475\n",
            "Epoch 16/100\n",
            "1/1 [==============================] - 0s 54ms/step - loss: 4.4774 - accuracy: 0.7132 - val_loss: 2.5441 - val_accuracy: 0.8475\n",
            "Epoch 17/100\n",
            "1/1 [==============================] - 0s 63ms/step - loss: 4.2742 - accuracy: 0.7132 - val_loss: 2.4302 - val_accuracy: 0.8475\n",
            "Epoch 18/100\n",
            "1/1 [==============================] - 0s 67ms/step - loss: 4.0771 - accuracy: 0.7132 - val_loss: 2.3192 - val_accuracy: 0.8475\n",
            "Epoch 19/100\n",
            "1/1 [==============================] - 0s 59ms/step - loss: 3.8917 - accuracy: 0.7206 - val_loss: 2.2118 - val_accuracy: 0.8475\n",
            "Epoch 20/100\n",
            "1/1 [==============================] - 0s 53ms/step - loss: 3.7219 - accuracy: 0.7206 - val_loss: 2.1096 - val_accuracy: 0.8475\n",
            "Epoch 21/100\n",
            "1/1 [==============================] - 0s 59ms/step - loss: 3.5661 - accuracy: 0.7132 - val_loss: 2.0124 - val_accuracy: 0.8475\n",
            "Epoch 22/100\n",
            "1/1 [==============================] - 0s 62ms/step - loss: 3.4183 - accuracy: 0.7132 - val_loss: 1.9187 - val_accuracy: 0.8475\n",
            "Epoch 23/100\n",
            "1/1 [==============================] - 0s 64ms/step - loss: 3.2746 - accuracy: 0.7132 - val_loss: 1.8273 - val_accuracy: 0.8475\n",
            "Epoch 24/100\n",
            "1/1 [==============================] - 0s 53ms/step - loss: 3.1340 - accuracy: 0.7132 - val_loss: 1.7375 - val_accuracy: 0.8475\n",
            "Epoch 25/100\n",
            "1/1 [==============================] - 0s 56ms/step - loss: 2.9964 - accuracy: 0.7132 - val_loss: 1.6491 - val_accuracy: 0.8475\n",
            "Epoch 26/100\n",
            "1/1 [==============================] - 0s 55ms/step - loss: 2.8606 - accuracy: 0.7059 - val_loss: 1.5615 - val_accuracy: 0.8475\n",
            "Epoch 27/100\n",
            "1/1 [==============================] - 0s 55ms/step - loss: 2.7260 - accuracy: 0.7059 - val_loss: 1.4746 - val_accuracy: 0.8475\n",
            "Epoch 28/100\n",
            "1/1 [==============================] - 0s 54ms/step - loss: 2.5929 - accuracy: 0.7059 - val_loss: 1.3882 - val_accuracy: 0.8475\n",
            "Epoch 29/100\n",
            "1/1 [==============================] - 0s 67ms/step - loss: 2.4615 - accuracy: 0.7059 - val_loss: 1.3027 - val_accuracy: 0.8475\n",
            "Epoch 30/100\n",
            "1/1 [==============================] - 0s 52ms/step - loss: 2.3322 - accuracy: 0.7059 - val_loss: 1.2183 - val_accuracy: 0.8475\n",
            "Epoch 31/100\n",
            "1/1 [==============================] - 0s 56ms/step - loss: 2.2038 - accuracy: 0.6985 - val_loss: 1.1345 - val_accuracy: 0.8475\n",
            "Epoch 32/100\n",
            "1/1 [==============================] - 0s 54ms/step - loss: 2.0760 - accuracy: 0.6985 - val_loss: 1.0515 - val_accuracy: 0.8475\n",
            "Epoch 33/100\n",
            "1/1 [==============================] - 0s 51ms/step - loss: 1.9489 - accuracy: 0.6985 - val_loss: 0.9687 - val_accuracy: 0.8475\n",
            "Epoch 34/100\n",
            "1/1 [==============================] - 0s 60ms/step - loss: 1.8227 - accuracy: 0.6985 - val_loss: 0.8874 - val_accuracy: 0.8475\n",
            "Epoch 35/100\n",
            "1/1 [==============================] - 0s 69ms/step - loss: 1.6979 - accuracy: 0.6985 - val_loss: 0.8083 - val_accuracy: 0.8475\n",
            "Epoch 36/100\n",
            "1/1 [==============================] - 0s 55ms/step - loss: 1.5753 - accuracy: 0.6985 - val_loss: 0.7325 - val_accuracy: 0.8475\n",
            "Epoch 37/100\n",
            "1/1 [==============================] - 0s 56ms/step - loss: 1.4548 - accuracy: 0.6985 - val_loss: 0.6614 - val_accuracy: 0.8475\n",
            "Epoch 38/100\n",
            "1/1 [==============================] - 0s 51ms/step - loss: 1.3377 - accuracy: 0.6985 - val_loss: 0.5974 - val_accuracy: 0.8475\n",
            "Epoch 39/100\n",
            "1/1 [==============================] - 0s 56ms/step - loss: 1.2274 - accuracy: 0.6912 - val_loss: 0.5434 - val_accuracy: 0.8475\n",
            "Epoch 40/100\n",
            "1/1 [==============================] - 0s 59ms/step - loss: 1.1276 - accuracy: 0.6912 - val_loss: 0.5018 - val_accuracy: 0.8475\n",
            "Epoch 41/100\n",
            "1/1 [==============================] - 0s 50ms/step - loss: 1.0411 - accuracy: 0.6912 - val_loss: 0.4743 - val_accuracy: 0.8475\n",
            "Epoch 42/100\n",
            "1/1 [==============================] - 0s 57ms/step - loss: 0.9698 - accuracy: 0.6838 - val_loss: 0.4593 - val_accuracy: 0.8644\n",
            "Epoch 43/100\n",
            "1/1 [==============================] - 0s 53ms/step - loss: 0.9120 - accuracy: 0.6912 - val_loss: 0.4559 - val_accuracy: 0.8814\n",
            "Epoch 44/100\n",
            "1/1 [==============================] - 0s 55ms/step - loss: 0.8661 - accuracy: 0.7353 - val_loss: 0.4599 - val_accuracy: 0.8644\n",
            "Epoch 45/100\n",
            "1/1 [==============================] - 0s 67ms/step - loss: 0.8298 - accuracy: 0.7353 - val_loss: 0.4673 - val_accuracy: 0.8644\n",
            "Epoch 46/100\n",
            "1/1 [==============================] - 0s 63ms/step - loss: 0.7995 - accuracy: 0.7206 - val_loss: 0.4752 - val_accuracy: 0.8814\n",
            "Epoch 47/100\n",
            "1/1 [==============================] - 0s 52ms/step - loss: 0.7726 - accuracy: 0.7206 - val_loss: 0.4827 - val_accuracy: 0.8814\n",
            "Epoch 48/100\n",
            "1/1 [==============================] - 0s 64ms/step - loss: 0.7494 - accuracy: 0.7132 - val_loss: 0.4893 - val_accuracy: 0.8814\n",
            "Epoch 49/100\n",
            "1/1 [==============================] - 0s 65ms/step - loss: 0.7291 - accuracy: 0.7132 - val_loss: 0.4948 - val_accuracy: 0.8814\n",
            "Epoch 50/100\n",
            "1/1 [==============================] - 0s 54ms/step - loss: 0.7111 - accuracy: 0.7206 - val_loss: 0.4998 - val_accuracy: 0.8814\n",
            "Epoch 51/100\n",
            "1/1 [==============================] - 0s 59ms/step - loss: 0.6949 - accuracy: 0.7206 - val_loss: 0.5034 - val_accuracy: 0.8814\n",
            "Epoch 52/100\n",
            "1/1 [==============================] - 0s 62ms/step - loss: 0.6805 - accuracy: 0.7206 - val_loss: 0.5061 - val_accuracy: 0.8814\n",
            "Epoch 53/100\n",
            "1/1 [==============================] - 0s 54ms/step - loss: 0.6677 - accuracy: 0.7279 - val_loss: 0.5088 - val_accuracy: 0.8814\n",
            "Epoch 54/100\n",
            "1/1 [==============================] - 0s 69ms/step - loss: 0.6559 - accuracy: 0.7279 - val_loss: 0.5115 - val_accuracy: 0.8814\n",
            "Epoch 55/100\n",
            "1/1 [==============================] - 0s 60ms/step - loss: 0.6457 - accuracy: 0.7279 - val_loss: 0.5149 - val_accuracy: 0.8814\n",
            "Epoch 56/100\n",
            "1/1 [==============================] - 0s 58ms/step - loss: 0.6371 - accuracy: 0.7279 - val_loss: 0.5184 - val_accuracy: 0.8814\n",
            "Epoch 57/100\n",
            "1/1 [==============================] - 0s 60ms/step - loss: 0.6296 - accuracy: 0.7279 - val_loss: 0.5220 - val_accuracy: 0.8814\n",
            "Epoch 58/100\n",
            "1/1 [==============================] - 0s 65ms/step - loss: 0.6232 - accuracy: 0.7279 - val_loss: 0.5258 - val_accuracy: 0.8814\n",
            "Epoch 59/100\n",
            "1/1 [==============================] - 0s 72ms/step - loss: 0.6177 - accuracy: 0.7279 - val_loss: 0.5294 - val_accuracy: 0.8814\n",
            "Epoch 60/100\n",
            "1/1 [==============================] - 0s 58ms/step - loss: 0.6129 - accuracy: 0.7353 - val_loss: 0.5327 - val_accuracy: 0.8814\n",
            "Epoch 61/100\n",
            "1/1 [==============================] - 0s 55ms/step - loss: 0.6089 - accuracy: 0.7353 - val_loss: 0.5356 - val_accuracy: 0.8814\n",
            "Epoch 62/100\n",
            "1/1 [==============================] - 0s 53ms/step - loss: 0.6052 - accuracy: 0.7353 - val_loss: 0.5381 - val_accuracy: 0.8814\n",
            "Epoch 63/100\n",
            "1/1 [==============================] - 0s 59ms/step - loss: 0.6022 - accuracy: 0.7353 - val_loss: 0.5385 - val_accuracy: 0.8814\n",
            "Epoch 64/100\n",
            "1/1 [==============================] - 0s 73ms/step - loss: 0.5991 - accuracy: 0.7353 - val_loss: 0.5391 - val_accuracy: 0.8814\n",
            "Epoch 65/100\n",
            "1/1 [==============================] - 0s 64ms/step - loss: 0.5967 - accuracy: 0.7353 - val_loss: 0.5400 - val_accuracy: 0.8814\n",
            "Epoch 66/100\n",
            "1/1 [==============================] - 0s 61ms/step - loss: 0.5944 - accuracy: 0.7353 - val_loss: 0.5400 - val_accuracy: 0.8814\n",
            "Epoch 67/100\n",
            "1/1 [==============================] - 0s 64ms/step - loss: 0.5923 - accuracy: 0.7353 - val_loss: 0.5404 - val_accuracy: 0.8814\n",
            "Epoch 68/100\n",
            "1/1 [==============================] - 0s 66ms/step - loss: 0.5909 - accuracy: 0.7353 - val_loss: 0.5412 - val_accuracy: 0.8814\n",
            "Epoch 69/100\n",
            "1/1 [==============================] - 0s 68ms/step - loss: 0.5895 - accuracy: 0.7353 - val_loss: 0.5417 - val_accuracy: 0.8814\n",
            "Epoch 70/100\n",
            "1/1 [==============================] - 0s 59ms/step - loss: 0.5883 - accuracy: 0.7353 - val_loss: 0.5423 - val_accuracy: 0.8814\n",
            "Epoch 71/100\n",
            "1/1 [==============================] - 0s 56ms/step - loss: 0.5872 - accuracy: 0.7353 - val_loss: 0.5424 - val_accuracy: 0.8814\n",
            "Epoch 72/100\n",
            "1/1 [==============================] - 0s 59ms/step - loss: 0.5861 - accuracy: 0.7353 - val_loss: 0.5429 - val_accuracy: 0.8814\n",
            "Epoch 73/100\n",
            "1/1 [==============================] - 0s 63ms/step - loss: 0.5850 - accuracy: 0.7353 - val_loss: 0.5440 - val_accuracy: 0.8814\n",
            "Epoch 74/100\n",
            "1/1 [==============================] - 0s 63ms/step - loss: 0.5839 - accuracy: 0.7353 - val_loss: 0.5445 - val_accuracy: 0.8814\n",
            "Epoch 75/100\n",
            "1/1 [==============================] - 0s 58ms/step - loss: 0.5828 - accuracy: 0.7353 - val_loss: 0.5446 - val_accuracy: 0.8814\n",
            "Epoch 76/100\n",
            "1/1 [==============================] - 0s 54ms/step - loss: 0.5816 - accuracy: 0.7426 - val_loss: 0.5456 - val_accuracy: 0.8814\n",
            "Epoch 77/100\n",
            "1/1 [==============================] - 0s 54ms/step - loss: 0.5803 - accuracy: 0.7426 - val_loss: 0.5462 - val_accuracy: 0.8814\n",
            "Epoch 78/100\n",
            "1/1 [==============================] - 0s 57ms/step - loss: 0.5788 - accuracy: 0.7426 - val_loss: 0.5474 - val_accuracy: 0.8814\n",
            "Epoch 79/100\n",
            "1/1 [==============================] - 0s 68ms/step - loss: 0.5775 - accuracy: 0.7426 - val_loss: 0.5490 - val_accuracy: 0.8814\n",
            "Epoch 80/100\n",
            "1/1 [==============================] - 0s 59ms/step - loss: 0.5765 - accuracy: 0.7426 - val_loss: 0.5509 - val_accuracy: 0.8814\n",
            "Epoch 81/100\n",
            "1/1 [==============================] - 0s 63ms/step - loss: 0.5756 - accuracy: 0.7426 - val_loss: 0.5508 - val_accuracy: 0.8814\n",
            "Epoch 82/100\n",
            "1/1 [==============================] - 0s 58ms/step - loss: 0.5748 - accuracy: 0.7426 - val_loss: 0.5515 - val_accuracy: 0.8814\n",
            "Epoch 83/100\n",
            "1/1 [==============================] - 0s 65ms/step - loss: 0.5742 - accuracy: 0.7426 - val_loss: 0.5526 - val_accuracy: 0.8814\n",
            "Epoch 84/100\n",
            "1/1 [==============================] - 0s 54ms/step - loss: 0.5735 - accuracy: 0.7426 - val_loss: 0.5523 - val_accuracy: 0.8983\n",
            "Epoch 85/100\n",
            "1/1 [==============================] - 0s 57ms/step - loss: 0.5727 - accuracy: 0.7574 - val_loss: 0.5524 - val_accuracy: 0.8983\n",
            "Epoch 86/100\n",
            "1/1 [==============================] - 0s 55ms/step - loss: 0.5719 - accuracy: 0.7574 - val_loss: 0.5520 - val_accuracy: 0.8983\n",
            "Epoch 87/100\n",
            "1/1 [==============================] - 0s 62ms/step - loss: 0.5710 - accuracy: 0.7500 - val_loss: 0.5522 - val_accuracy: 0.8983\n",
            "Epoch 88/100\n",
            "1/1 [==============================] - 0s 61ms/step - loss: 0.5701 - accuracy: 0.7574 - val_loss: 0.5521 - val_accuracy: 0.8983\n",
            "Epoch 89/100\n",
            "1/1 [==============================] - 0s 58ms/step - loss: 0.5691 - accuracy: 0.7574 - val_loss: 0.5523 - val_accuracy: 0.8983\n",
            "Epoch 90/100\n",
            "1/1 [==============================] - 0s 71ms/step - loss: 0.5681 - accuracy: 0.7574 - val_loss: 0.5516 - val_accuracy: 0.8983\n",
            "Epoch 91/100\n",
            "1/1 [==============================] - 0s 66ms/step - loss: 0.5669 - accuracy: 0.7574 - val_loss: 0.5538 - val_accuracy: 0.8983\n",
            "Epoch 92/100\n",
            "1/1 [==============================] - 0s 58ms/step - loss: 0.5657 - accuracy: 0.7574 - val_loss: 0.5522 - val_accuracy: 0.8983\n",
            "Epoch 93/100\n",
            "1/1 [==============================] - 0s 63ms/step - loss: 0.5645 - accuracy: 0.7574 - val_loss: 0.5539 - val_accuracy: 0.8983\n",
            "Epoch 94/100\n",
            "1/1 [==============================] - 0s 52ms/step - loss: 0.5632 - accuracy: 0.7574 - val_loss: 0.5494 - val_accuracy: 0.8983\n",
            "Epoch 95/100\n",
            "1/1 [==============================] - 0s 59ms/step - loss: 0.5618 - accuracy: 0.7647 - val_loss: 0.5545 - val_accuracy: 0.8983\n",
            "Epoch 96/100\n",
            "1/1 [==============================] - 0s 55ms/step - loss: 0.5604 - accuracy: 0.7574 - val_loss: 0.5446 - val_accuracy: 0.8983\n",
            "Epoch 97/100\n",
            "1/1 [==============================] - 0s 55ms/step - loss: 0.5595 - accuracy: 0.7500 - val_loss: 0.5657 - val_accuracy: 0.8814\n",
            "Epoch 98/100\n",
            "1/1 [==============================] - 0s 59ms/step - loss: 0.5598 - accuracy: 0.7647 - val_loss: 0.5345 - val_accuracy: 0.8983\n",
            "Epoch 99/100\n",
            "1/1 [==============================] - 0s 58ms/step - loss: 0.5608 - accuracy: 0.7574 - val_loss: 0.5665 - val_accuracy: 0.8814\n",
            "Epoch 100/100\n",
            "1/1 [==============================] - 0s 68ms/step - loss: 0.5583 - accuracy: 0.7721 - val_loss: 0.5424 - val_accuracy: 0.8983\n"
          ],
          "name": "stdout"
        },
        {
          "output_type": "execute_result",
          "data": {
            "text/plain": [
              "<tensorflow.python.keras.callbacks.History at 0x7fd405272450>"
            ]
          },
          "metadata": {
            "tags": []
          },
          "execution_count": 87
        }
      ]
    },
    {
      "cell_type": "markdown",
      "metadata": {
        "id": "S3bJOGxSWd0W"
      },
      "source": [
        "Výsledky nahráme do wandb."
      ],
      "id": "S3bJOGxSWd0W"
    },
    {
      "cell_type": "code",
      "metadata": {
        "colab": {
          "base_uri": "https://localhost:8080/",
          "height": 669,
          "referenced_widgets": [
            "79eca542872a43ebae56ae55cf9218f8",
            "b516ad4971704401bfc6760260ef2000",
            "df2fb248254b4f809ae06e29c75b8d07",
            "ad7c517b9e744f93a28046dbdc3c6955",
            "5c2c48aab4e646c7b3fa0fbde8ad78b4",
            "937e12cb44ec414f834cc84b917dc455",
            "2038960ed8b243c6b9eff7c024c15e3d",
            "58b116e9682644c192a67adf0253eb7c"
          ]
        },
        "id": "WFSdH1B_053b",
        "outputId": "238866df-65a2-41e4-a296-cc1ffcb0fb75"
      },
      "source": [
        "run.finish()"
      ],
      "id": "WFSdH1B_053b",
      "execution_count": 88,
      "outputs": [
        {
          "output_type": "display_data",
          "data": {
            "text/html": [
              "<br/>Waiting for W&B process to finish, PID 1914<br/>Program ended successfully."
            ],
            "text/plain": [
              "<IPython.core.display.HTML object>"
            ]
          },
          "metadata": {
            "tags": []
          }
        },
        {
          "output_type": "display_data",
          "data": {
            "application/vnd.jupyter.widget-view+json": {
              "model_id": "79eca542872a43ebae56ae55cf9218f8",
              "version_minor": 0,
              "version_major": 2
            },
            "text/plain": [
              "VBox(children=(Label(value=' 0.06MB of 0.06MB uploaded (0.00MB deduped)\\r'), FloatProgress(value=1.0, max=1.0)…"
            ]
          },
          "metadata": {
            "tags": []
          }
        },
        {
          "output_type": "display_data",
          "data": {
            "text/html": [
              "Find user logs for this run at: <code>/content/wandb/run-20210327_221634-1umr56wd/logs/debug.log</code>"
            ],
            "text/plain": [
              "<IPython.core.display.HTML object>"
            ]
          },
          "metadata": {
            "tags": []
          }
        },
        {
          "output_type": "display_data",
          "data": {
            "text/html": [
              "Find internal logs for this run at: <code>/content/wandb/run-20210327_221634-1umr56wd/logs/debug-internal.log</code>"
            ],
            "text/plain": [
              "<IPython.core.display.HTML object>"
            ]
          },
          "metadata": {
            "tags": []
          }
        },
        {
          "output_type": "display_data",
          "data": {
            "text/html": [
              "<h3>Run summary:</h3><br/><style>\n",
              "    table.wandb td:nth-child(1) { padding: 0 10px; text-align: right }\n",
              "    </style><table class=\"wandb\">\n",
              "<tr><td>epoch</td><td>99</td></tr><tr><td>loss</td><td>0.55835</td></tr><tr><td>accuracy</td><td>0.77206</td></tr><tr><td>val_loss</td><td>0.54239</td></tr><tr><td>val_accuracy</td><td>0.89831</td></tr><tr><td>_runtime</td><td>12</td></tr><tr><td>_timestamp</td><td>1616883406</td></tr><tr><td>_step</td><td>99</td></tr><tr><td>best_val_loss</td><td>0.45589</td></tr><tr><td>best_epoch</td><td>42</td></tr></table>"
            ],
            "text/plain": [
              "<IPython.core.display.HTML object>"
            ]
          },
          "metadata": {
            "tags": []
          }
        },
        {
          "output_type": "display_data",
          "data": {
            "text/html": [
              "<h3>Run history:</h3><br/><style>\n",
              "    table.wandb td:nth-child(1) { padding: 0 10px; text-align: right }\n",
              "    </style><table class=\"wandb\">\n",
              "<tr><td>epoch</td><td>▁▁▁▁▂▂▂▂▂▃▃▃▃▃▃▄▄▄▄▄▅▅▅▅▅▅▆▆▆▆▆▇▇▇▇▇▇███</td></tr><tr><td>loss</td><td>█▇▇▆▅▅▄▄▄▃▃▃▂▂▂▂▁▁▁▁▁▁▁▁▁▁▁▁▁▁▁▁▁▁▁▁▁▁▁▁</td></tr><tr><td>accuracy</td><td>▃▃▃▃▃▃▃▃▃▃▂▂▂▂▂▁▁▅▄▃▄▄▄▄▅▅▅▅▅▅▅▅▅▅▆▇▇▇▆█</td></tr><tr><td>val_loss</td><td>█▇▇▆▅▅▄▄▄▃▃▃▂▂▁▁▁▁▁▁▁▁▁▁▁▁▁▁▁▁▁▁▁▁▁▁▁▁▁▁</td></tr><tr><td>val_accuracy</td><td>▁▁▁▁▁▁▁▁▁▁▁▁▁▁▁▁▁▃▆▆▆▆▆▆▆▆▆▆▆▆▆▆▆█████▆█</td></tr><tr><td>_runtime</td><td>▁▁▁▁▁▂▂▂▂▃▃▃▃▃▄▄▄▄▅▅▅▅▅▅▆▆▆▆▆▇▇▇▇▇▇█████</td></tr><tr><td>_timestamp</td><td>▁▁▁▁▁▂▂▂▂▃▃▃▃▃▄▄▄▄▅▅▅▅▅▅▆▆▆▆▆▇▇▇▇▇▇█████</td></tr><tr><td>_step</td><td>▁▁▁▁▂▂▂▂▂▃▃▃▃▃▃▄▄▄▄▄▅▅▅▅▅▅▆▆▆▆▆▇▇▇▇▇▇███</td></tr></table><br/>"
            ],
            "text/plain": [
              "<IPython.core.display.HTML object>"
            ]
          },
          "metadata": {
            "tags": []
          }
        },
        {
          "output_type": "display_data",
          "data": {
            "text/html": [
              "Synced 5 W&B file(s), 1 media file(s), 0 artifact file(s) and 1 other file(s)"
            ],
            "text/plain": [
              "<IPython.core.display.HTML object>"
            ]
          },
          "metadata": {
            "tags": []
          }
        },
        {
          "output_type": "display_data",
          "data": {
            "text/html": [
              "\n",
              "                    <br/>Synced <strong style=\"color:#cdcd00\">magic-wave-29</strong>: <a href=\"https://wandb.ai/nn2021/parkinson_tensor/runs/1umr56wd\" target=\"_blank\">https://wandb.ai/nn2021/parkinson_tensor/runs/1umr56wd</a><br/>\n",
              "                "
            ],
            "text/plain": [
              "<IPython.core.display.HTML object>"
            ]
          },
          "metadata": {
            "tags": []
          }
        }
      ]
    },
    {
      "cell_type": "markdown",
      "metadata": {
        "id": "LoUoe-jjh3EL"
      },
      "source": [
        "## Pytorch"
      ],
      "id": "LoUoe-jjh3EL"
    },
    {
      "cell_type": "code",
      "metadata": {
        "id": "e16iW0M3Ppgd"
      },
      "source": [
        "import numpy as np\n",
        "import pandas as pd\n",
        "import seaborn as sns\n",
        "import matplotlib.pyplot as plt\n",
        "\n",
        "import torch\n",
        "import torch.nn as nn\n",
        "import torch.optim as optim\n",
        "from torch.utils.data import Dataset, DataLoader\n",
        "\n",
        "from itertools import chain\n",
        "\n",
        "from sklearn.preprocessing import StandardScaler    \n",
        "from sklearn.model_selection import train_test_split\n",
        "from sklearn.metrics import confusion_matrix, classification_report, accuracy_score"
      ],
      "id": "e16iW0M3Ppgd",
      "execution_count": 89,
      "outputs": []
    },
    {
      "cell_type": "markdown",
      "metadata": {
        "id": "xVQfltVPXZpP"
      },
      "source": [
        "Opäť, rozdelíme si set na dáta a target (triedu)."
      ],
      "id": "xVQfltVPXZpP"
    },
    {
      "cell_type": "code",
      "metadata": {
        "colab": {
          "base_uri": "https://localhost:8080/",
          "height": 35
        },
        "id": "A-pF6mbeB6R5",
        "outputId": "81bf22fd-274e-42a3-96e2-238275f73d23"
      },
      "source": [
        "X_data = data.loc[:, data.columns != 'status'].drop(['name'], axis=1)\n",
        "Y_data = data['status']\n",
        "format(X_data.shape)"
      ],
      "id": "A-pF6mbeB6R5",
      "execution_count": 90,
      "outputs": [
        {
          "output_type": "execute_result",
          "data": {
            "application/vnd.google.colaboratory.intrinsic+json": {
              "type": "string"
            },
            "text/plain": [
              "'(195, 22)'"
            ]
          },
          "metadata": {
            "tags": []
          },
          "execution_count": 90
        }
      ]
    },
    {
      "cell_type": "markdown",
      "metadata": {
        "id": "dcXLYoiTXtia"
      },
      "source": [
        "Rozdelenie dát na testovaciu a trénovaciu sadu."
      ],
      "id": "dcXLYoiTXtia"
    },
    {
      "cell_type": "code",
      "metadata": {
        "id": "Lyb4X1NHI_Y9"
      },
      "source": [
        "X_train, X_test, y_train, y_test = train_test_split(X_data, Y_data, test_size=0.3, random_state=256)"
      ],
      "id": "Lyb4X1NHI_Y9",
      "execution_count": 91,
      "outputs": []
    },
    {
      "cell_type": "markdown",
      "metadata": {
        "id": "gNC1gRiaYW94"
      },
      "source": [
        "Pripravíme dáta na prácu s PyTorchom"
      ],
      "id": "gNC1gRiaYW94"
    },
    {
      "cell_type": "code",
      "metadata": {
        "id": "pc1nNg8-KvW3"
      },
      "source": [
        "scaler = StandardScaler()\n",
        "X_train = scaler.fit_transform(X_train)\n",
        "X_test = scaler.transform(X_test)"
      ],
      "id": "pc1nNg8-KvW3",
      "execution_count": 92,
      "outputs": []
    },
    {
      "cell_type": "code",
      "metadata": {
        "id": "8TJlYGFfLGFt"
      },
      "source": [
        "class trainData(Dataset):\n",
        "    \n",
        "    def __init__(self, X_data, y_data):\n",
        "        self.X_data = X_data\n",
        "        self.y_data = y_data\n",
        "        \n",
        "    def __getitem__(self, index):\n",
        "        return self.X_data[index], self.y_data[index]\n",
        "        \n",
        "    def __len__ (self):\n",
        "        return len(self.X_data)\n",
        "\n",
        "class testData(Dataset):\n",
        "    \n",
        "    def __init__(self, X_data):\n",
        "        self.X_data = X_data\n",
        "        \n",
        "    def __getitem__(self, index):\n",
        "        return self.X_data[index]\n",
        "        \n",
        "    def __len__ (self):\n",
        "        return len(self.X_data)"
      ],
      "id": "8TJlYGFfLGFt",
      "execution_count": 93,
      "outputs": []
    },
    {
      "cell_type": "code",
      "metadata": {
        "id": "yaMETq1LP3md"
      },
      "source": [
        "train_data = trainData(torch.FloatTensor(X_train),torch.FloatTensor(y_train))\n",
        "test_data = testData(torch.FloatTensor(X_test))"
      ],
      "id": "yaMETq1LP3md",
      "execution_count": 94,
      "outputs": []
    },
    {
      "cell_type": "markdown",
      "metadata": {
        "id": "4V-N88XcYWMI"
      },
      "source": [
        "Nastavíme parametre pre model"
      ],
      "id": "4V-N88XcYWMI"
    },
    {
      "cell_type": "code",
      "metadata": {
        "id": "SeljtJt2K5MZ"
      },
      "source": [
        "#MODEL PARAMETERS \n",
        "config = {\n",
        "\"EPOCHS\": 50,\n",
        "\"BATCH_SIZE\": 195,\n",
        "\"LEARNING_RATE\": 0.0001,\n",
        "\"MOMENTUM\": 0.9,\n",
        "\"epsilon\": 1e-07,\n",
        "\"alpha\":0.9,\n",
        "\"DROPOUT\": 0.1}"
      ],
      "id": "SeljtJt2K5MZ",
      "execution_count": 95,
      "outputs": []
    },
    {
      "cell_type": "code",
      "metadata": {
        "id": "7cZ2jrILP6YQ"
      },
      "source": [
        "train_loader = DataLoader(dataset=train_data, batch_size=config[\"BATCH_SIZE\"] , shuffle=True)\n",
        "test_loader = DataLoader(dataset=test_data, batch_size=config[\"BATCH_SIZE\"], shuffle=True)"
      ],
      "id": "7cZ2jrILP6YQ",
      "execution_count": 96,
      "outputs": []
    },
    {
      "cell_type": "markdown",
      "metadata": {
        "id": "th4S11O4YfiK"
      },
      "source": [
        "Zadefinujeme si model s jednou skrytou vrstvou. Skúšali sme viacej vrstiev, ale znižovalo nám to presnosť. Použili sme  aktivačnú funkciu RELU."
      ],
      "id": "th4S11O4YfiK"
    },
    {
      "cell_type": "code",
      "metadata": {
        "id": "d9Egbi13P6ux"
      },
      "source": [
        "class binaryClassification(nn.Module):\n",
        "    def __init__(self):\n",
        "        super(binaryClassification, self).__init__()\n",
        "    \n",
        "        self.layer_1 = nn.Linear(22, 64) \n",
        "        self.layer_2 = nn.Linear(64, 32)\n",
        "        self.layer_out = nn.Linear(32, 1) \n",
        "        \n",
        "        self.relu = nn.ReLU()\n",
        "        self.dropout = nn.Dropout(p=config[\"DROPOUT\"])\n",
        "\n",
        "        \n",
        "    def forward(self, inputs):\n",
        "        x = self.layer_1(inputs)\n",
        "        x = self.relu(x)\n",
        "        x = self.layer_2(x)\n",
        "        x = self.relu(x)\n",
        "        x = self.dropout(x)\n",
        "        x = self.layer_out(x)\n",
        "        \n",
        "        return x"
      ],
      "id": "d9Egbi13P6ux",
      "execution_count": 97,
      "outputs": []
    },
    {
      "cell_type": "code",
      "metadata": {
        "colab": {
          "base_uri": "https://localhost:8080/"
        },
        "id": "Ejas_9uhTHQ3",
        "outputId": "681d97ed-7821-4e8b-965e-2ffd0dd62150"
      },
      "source": [
        "model = binaryClassification()\n",
        "model.to('cpu')"
      ],
      "id": "Ejas_9uhTHQ3",
      "execution_count": 98,
      "outputs": [
        {
          "output_type": "execute_result",
          "data": {
            "text/plain": [
              "binaryClassification(\n",
              "  (layer_1): Linear(in_features=22, out_features=64, bias=True)\n",
              "  (layer_2): Linear(in_features=64, out_features=32, bias=True)\n",
              "  (layer_out): Linear(in_features=32, out_features=1, bias=True)\n",
              "  (relu): ReLU()\n",
              "  (dropout): Dropout(p=0.1, inplace=False)\n",
              ")"
            ]
          },
          "metadata": {
            "tags": []
          },
          "execution_count": 98
        }
      ]
    },
    {
      "cell_type": "code",
      "metadata": {
        "id": "XKh1W0xJYSdp"
      },
      "source": [
        "criterion = nn.BCEWithLogitsLoss()\n",
        "optimizer = optim.RMSprop(model.parameters(), lr=config[\"LEARNING_RATE\"], alpha=config[\"alpha\"], eps=config[\"epsilon\"], momentum=config[\"MOMENTUM\"])"
      ],
      "id": "XKh1W0xJYSdp",
      "execution_count": 99,
      "outputs": []
    },
    {
      "cell_type": "code",
      "metadata": {
        "id": "jU3o3TdiYy2N"
      },
      "source": [
        "def binary_acc(y_pred, y_test):\n",
        "    y_pred_tag = torch.round(torch.sigmoid(y_pred))\n",
        "\n",
        "    correct_results_sum = (y_pred_tag == y_test).sum().float()\n",
        "    acc = correct_results_sum / y_test.shape[0]\n",
        "        \n",
        "    return acc"
      ],
      "id": "jU3o3TdiYy2N",
      "execution_count": 100,
      "outputs": []
    },
    {
      "cell_type": "code",
      "metadata": {
        "colab": {
          "base_uri": "https://localhost:8080/",
          "height": 120
        },
        "id": "3klo2Cp9fGOu",
        "outputId": "319b38bd-5e46-469d-c07c-1ea1597b8d35"
      },
      "source": [
        "run = wandb.init(project=\"parkinson_pytorch\", entity=\"nn2021\")"
      ],
      "id": "3klo2Cp9fGOu",
      "execution_count": 101,
      "outputs": [
        {
          "output_type": "display_data",
          "data": {
            "text/html": [
              "\n",
              "                Tracking run with wandb version 0.10.23<br/>\n",
              "                Syncing run <strong style=\"color:#cdcd00\">dry-flower-22</strong> to <a href=\"https://wandb.ai\" target=\"_blank\">Weights & Biases</a> <a href=\"https://docs.wandb.com/integrations/jupyter.html\" target=\"_blank\">(Documentation)</a>.<br/>\n",
              "                Project page: <a href=\"https://wandb.ai/nn2021/parkinson_pytorch\" target=\"_blank\">https://wandb.ai/nn2021/parkinson_pytorch</a><br/>\n",
              "                Run page: <a href=\"https://wandb.ai/nn2021/parkinson_pytorch/runs/1ul8pyp9\" target=\"_blank\">https://wandb.ai/nn2021/parkinson_pytorch/runs/1ul8pyp9</a><br/>\n",
              "                Run data is saved locally in <code>/content/wandb/run-20210327_221650-1ul8pyp9</code><br/><br/>\n",
              "            "
            ],
            "text/plain": [
              "<IPython.core.display.HTML object>"
            ]
          },
          "metadata": {
            "tags": []
          }
        }
      ]
    },
    {
      "cell_type": "code",
      "metadata": {
        "id": "2M9vNW1BfOP8"
      },
      "source": [
        "wandb.config.update(config)"
      ],
      "id": "2M9vNW1BfOP8",
      "execution_count": 102,
      "outputs": []
    },
    {
      "cell_type": "code",
      "metadata": {
        "colab": {
          "base_uri": "https://localhost:8080/"
        },
        "id": "k4OU90C7fuAU",
        "outputId": "70cf47d8-de5e-4be8-fb2f-86e0845edc8a"
      },
      "source": [
        "wandb.watch(model)"
      ],
      "id": "k4OU90C7fuAU",
      "execution_count": 103,
      "outputs": [
        {
          "output_type": "execute_result",
          "data": {
            "text/plain": [
              "[<wandb.wandb_torch.TorchGraph at 0x7fd401c45310>]"
            ]
          },
          "metadata": {
            "tags": []
          },
          "execution_count": 103
        }
      ]
    },
    {
      "cell_type": "markdown",
      "metadata": {
        "id": "oIo2P97IcMi-"
      },
      "source": [
        "Po inicializácii wandb spustíme trénovanie siete v jednotlivých epochách po batchoch."
      ],
      "id": "oIo2P97IcMi-"
    },
    {
      "cell_type": "code",
      "metadata": {
        "id": "a0uEsUDbZCl2",
        "colab": {
          "base_uri": "https://localhost:8080/"
        },
        "outputId": "06f56251-de4a-406a-8cb4-93a4bac8a13f"
      },
      "source": [
        "model.train()\n",
        "\n",
        "epoch_loss_arr = []\n",
        "epoch_acc_arr = []\n",
        "\n",
        "for e in range(1, config[\"EPOCHS\"]+1):\n",
        "\n",
        "    epoch_loss = 0\n",
        "    epoch_acc = 0\n",
        "\n",
        "    for X_batch, y_batch in train_loader:\n",
        "        X_batch, y_batch = X_batch.to(\"cpu\"), y_batch.to(\"cpu\")\n",
        "        optimizer.zero_grad()\n",
        "        \n",
        "\n",
        "        y_pred = model(X_batch)\n",
        "        loss = criterion(y_pred, y_batch.unsqueeze(1))\n",
        "        acc = binary_acc(y_pred, y_batch.unsqueeze(1))\n",
        "        \n",
        "        loss.backward()\n",
        "        optimizer.step()\n",
        "        \n",
        "        epoch_loss += loss.item()\n",
        "        epoch_acc += acc.item()\n",
        "\n",
        "    epoch_loss_arr.append(epoch_loss / len(train_loader))\n",
        "    epoch_acc_arr.append(epoch_acc / len(train_loader))\n",
        "    \n",
        "    result_loss = epoch_loss / len(train_loader)\n",
        "    result_acc = epoch_acc / len(train_loader)\n",
        "\n",
        "    wandb.log({\"loss train\" : loss})\n",
        "    wandb.log({\"accurancy train\" : result_acc})\n",
        "\n",
        "    \n",
        "    y_pred_list = []\n",
        "    model.eval()\n",
        "\n",
        "    with torch.no_grad():\n",
        "        for X_batch in test_loader:\n",
        "            X_batch = X_batch.to(\"cpu\")\n",
        "            y_test_pred = model(X_batch)\n",
        "            y_test_pred = torch.sigmoid(y_test_pred)\n",
        "            y_pred_tag = torch.round(y_test_pred)\n",
        "            y_pred_list.append(y_pred_tag.cpu().numpy())\n",
        "\n",
        "    y_pred_list = torch.FloatTensor(list(chain.from_iterable(list(chain.from_iterable(y_pred_list)))))\n",
        "    y_test_tensor = torch.FloatTensor(y_test.to_list())\n",
        "      \n",
        "    wandb.log({\"loss test\": criterion(y_test_tensor,y_pred_list )})\n",
        "    wandb.log({\"accurancy test\": binary_acc(y_test_tensor,y_pred_list )})"
      ],
      "id": "a0uEsUDbZCl2",
      "execution_count": 104,
      "outputs": [
        {
          "output_type": "stream",
          "text": [
            "/usr/local/lib/python3.7/dist-packages/torch/nn/modules/module.py:795: UserWarning: Using a non-full backward hook when the forward contains multiple autograd Nodes is deprecated and will be removed in future versions. This hook will be missing some grad_input. Please use register_full_backward_hook to get the documented behavior.\n",
            "  warnings.warn(\"Using a non-full backward hook when the forward contains multiple autograd Nodes \"\n"
          ],
          "name": "stderr"
        }
      ]
    },
    {
      "cell_type": "code",
      "metadata": {
        "colab": {
          "base_uri": "https://localhost:8080/",
          "height": 585,
          "referenced_widgets": [
            "5dec46aaf3bf41ca84d07d2af77b1d2e",
            "ad0a0f59ca9847e785013c2ec108ee25",
            "014e11273af547a09cab83bbd1759491",
            "78b009f811164d08a5caf0f4aded00e8",
            "9e134f859c8940ef8ff715edfdb9c1ce",
            "1c824b6636a342b6a51a5cacce5d65c2",
            "577597ba615349eea43fa19531fd2adb",
            "81e10fdb4b7b40e79345dbb1b34e2423"
          ]
        },
        "id": "h0sWnz9BdYfJ",
        "outputId": "c9e24f8d-5233-45ef-9e2c-af15375d44bb"
      },
      "source": [
        "run.finish()"
      ],
      "id": "h0sWnz9BdYfJ",
      "execution_count": 105,
      "outputs": [
        {
          "output_type": "display_data",
          "data": {
            "text/html": [
              "<br/>Waiting for W&B process to finish, PID 2257<br/>Program ended successfully."
            ],
            "text/plain": [
              "<IPython.core.display.HTML object>"
            ]
          },
          "metadata": {
            "tags": []
          }
        },
        {
          "output_type": "display_data",
          "data": {
            "application/vnd.jupyter.widget-view+json": {
              "model_id": "5dec46aaf3bf41ca84d07d2af77b1d2e",
              "version_minor": 0,
              "version_major": 2
            },
            "text/plain": [
              "VBox(children=(Label(value=' 0.00MB of 0.00MB uploaded (0.00MB deduped)\\r'), FloatProgress(value=1.0, max=1.0)…"
            ]
          },
          "metadata": {
            "tags": []
          }
        },
        {
          "output_type": "display_data",
          "data": {
            "text/html": [
              "Find user logs for this run at: <code>/content/wandb/run-20210327_221650-1ul8pyp9/logs/debug.log</code>"
            ],
            "text/plain": [
              "<IPython.core.display.HTML object>"
            ]
          },
          "metadata": {
            "tags": []
          }
        },
        {
          "output_type": "display_data",
          "data": {
            "text/html": [
              "Find internal logs for this run at: <code>/content/wandb/run-20210327_221650-1ul8pyp9/logs/debug-internal.log</code>"
            ],
            "text/plain": [
              "<IPython.core.display.HTML object>"
            ]
          },
          "metadata": {
            "tags": []
          }
        },
        {
          "output_type": "display_data",
          "data": {
            "text/html": [
              "<h3>Run summary:</h3><br/><style>\n",
              "    table.wandb td:nth-child(1) { padding: 0 10px; text-align: right }\n",
              "    </style><table class=\"wandb\">\n",
              "<tr><td>loss train</td><td>0.35099</td></tr><tr><td>_runtime</td><td>4</td></tr><tr><td>_timestamp</td><td>1616883414</td></tr><tr><td>_step</td><td>199</td></tr><tr><td>accurancy train</td><td>0.82353</td></tr><tr><td>loss test</td><td>0.65935</td></tr><tr><td>accurancy test</td><td>0.61017</td></tr></table>"
            ],
            "text/plain": [
              "<IPython.core.display.HTML object>"
            ]
          },
          "metadata": {
            "tags": []
          }
        },
        {
          "output_type": "display_data",
          "data": {
            "text/html": [
              "<h3>Run history:</h3><br/><style>\n",
              "    table.wandb td:nth-child(1) { padding: 0 10px; text-align: right }\n",
              "    </style><table class=\"wandb\">\n",
              "<tr><td>loss train</td><td>█████▇▇▇▇▆▆▆▆▅▅▅▅▄▄▄▄▃▃▃▃▃▃▂▂▂▂▂▂▂▂▁▁▁▁▁</td></tr><tr><td>_runtime</td><td>▁▁▁▁▁▁▁▁▁▁▁▁▁▁▁▁▁▁▁▁▁▁▁▁▁▁▁▁▁▁▁▁████████</td></tr><tr><td>_timestamp</td><td>▁▁▁▁▁▁▁▁▁▁▁▁▁▁▁▁▁▁▁▁▁▁▁▁▁▁▁▁▁▁▁▁████████</td></tr><tr><td>_step</td><td>▁▁▁▁▂▂▂▂▂▃▃▃▃▃▃▄▄▄▄▄▅▅▅▅▅▅▆▆▆▆▆▇▇▇▇▇▇███</td></tr><tr><td>accurancy train</td><td>▁▁▂▃▆▆▆▆▇████████▇▇▇▇▇▇▇▇▇▇▇▇▇▇▇▇▇▇▇▇▇▇█</td></tr><tr><td>loss test</td><td>▄▃▃▃▁▁▁▁▂▂▃▃▃▃▄▅▅▆▅▆▇▆▆▇▆▇▆▇▆▆▇▆▇▇▇███▇▇</td></tr><tr><td>accurancy test</td><td>▄▆▆▆█▇▇▇▇█▆▆▆▇▆▄▄▃▅▄▁▄▃▁▃▂▃▂▄▄▃▃▂▃▂▂▁▂▃▃</td></tr></table><br/>"
            ],
            "text/plain": [
              "<IPython.core.display.HTML object>"
            ]
          },
          "metadata": {
            "tags": []
          }
        },
        {
          "output_type": "display_data",
          "data": {
            "text/html": [
              "Synced 5 W&B file(s), 1 media file(s), 0 artifact file(s) and 0 other file(s)"
            ],
            "text/plain": [
              "<IPython.core.display.HTML object>"
            ]
          },
          "metadata": {
            "tags": []
          }
        },
        {
          "output_type": "display_data",
          "data": {
            "text/html": [
              "\n",
              "                    <br/>Synced <strong style=\"color:#cdcd00\">dry-flower-22</strong>: <a href=\"https://wandb.ai/nn2021/parkinson_pytorch/runs/1ul8pyp9\" target=\"_blank\">https://wandb.ai/nn2021/parkinson_pytorch/runs/1ul8pyp9</a><br/>\n",
              "                "
            ],
            "text/plain": [
              "<IPython.core.display.HTML object>"
            ]
          },
          "metadata": {
            "tags": []
          }
        }
      ]
    }
  ]
}